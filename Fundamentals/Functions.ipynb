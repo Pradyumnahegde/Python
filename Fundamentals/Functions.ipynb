{
 "cells": [
  {
   "cell_type": "code",
   "execution_count": 2,
   "id": "2bd75900",
   "metadata": {},
   "outputs": [
    {
     "name": "stdout",
     "output_type": "stream",
     "text": [
      "Hello\n"
     ]
    }
   ],
   "source": [
    "def my_func():\n",
    "    print(\"Hello\")\n",
    "    \n",
    "my_func()"
   ]
  },
  {
   "cell_type": "code",
   "execution_count": 5,
   "id": "bcbfdcc5",
   "metadata": {},
   "outputs": [
    {
     "name": "stdout",
     "output_type": "stream",
     "text": [
      "Hello John\n"
     ]
    }
   ],
   "source": [
    "def say_hello(name):     # or u can use default parameter (name = 'John')\n",
    "    print(f'Hello {name}')\n",
    "\n",
    "say_hello('John')"
   ]
  },
  {
   "cell_type": "code",
   "execution_count": 4,
   "id": "7943ff21",
   "metadata": {},
   "outputs": [
    {
     "data": {
      "text/plain": [
       "15"
      ]
     },
     "execution_count": 4,
     "metadata": {},
     "output_type": "execute_result"
    }
   ],
   "source": [
    "def my(num1):\n",
    "    return num1+5\n",
    "\n",
    "my(10)"
   ]
  },
  {
   "cell_type": "code",
   "execution_count": 6,
   "id": "f8932122",
   "metadata": {},
   "outputs": [],
   "source": [
    "res = my(20)"
   ]
  },
  {
   "cell_type": "code",
   "execution_count": 7,
   "id": "33ee17aa",
   "metadata": {},
   "outputs": [
    {
     "data": {
      "text/plain": [
       "25"
      ]
     },
     "execution_count": 7,
     "metadata": {},
     "output_type": "execute_result"
    }
   ],
   "source": [
    "res"
   ]
  },
  {
   "cell_type": "code",
   "execution_count": 10,
   "id": "8aa3434f",
   "metadata": {},
   "outputs": [],
   "source": [
    "def print_res(a,b):\n",
    "    print(a+b)"
   ]
  },
  {
   "cell_type": "code",
   "execution_count": 11,
   "id": "ce7c2689",
   "metadata": {},
   "outputs": [
    {
     "name": "stdout",
     "output_type": "stream",
     "text": [
      "30\n"
     ]
    }
   ],
   "source": [
    "res = print_res(10,20)"
   ]
  },
  {
   "cell_type": "code",
   "execution_count": 12,
   "id": "34043855",
   "metadata": {},
   "outputs": [
    {
     "data": {
      "text/plain": [
       "NoneType"
      ]
     },
     "execution_count": 12,
     "metadata": {},
     "output_type": "execute_result"
    }
   ],
   "source": [
    "type(res)"
   ]
  },
  {
   "cell_type": "code",
   "execution_count": 13,
   "id": "88a933c3",
   "metadata": {},
   "outputs": [
    {
     "data": {
      "text/plain": [
       "True"
      ]
     },
     "execution_count": 13,
     "metadata": {},
     "output_type": "execute_result"
    }
   ],
   "source": [
    "def even_check(num):\n",
    "    return num%2 ==0\n",
    "\n",
    "even_check(10)"
   ]
  },
  {
   "cell_type": "code",
   "execution_count": 14,
   "id": "234fd57b",
   "metadata": {},
   "outputs": [
    {
     "data": {
      "text/plain": [
       "False"
      ]
     },
     "execution_count": 14,
     "metadata": {},
     "output_type": "execute_result"
    }
   ],
   "source": [
    "even_check(11)"
   ]
  },
  {
   "cell_type": "code",
   "execution_count": 44,
   "id": "9dbdf047",
   "metadata": {},
   "outputs": [
    {
     "data": {
      "text/plain": [
       "False"
      ]
     },
     "execution_count": 44,
     "metadata": {},
     "output_type": "execute_result"
    }
   ],
   "source": [
    "def check_even_list(lists):\n",
    "    for num in lists:\n",
    "        if num % 2 == 0:\n",
    "            return True\n",
    "        \n",
    "    return False\n",
    "\n",
    "a = [1,3,5]\n",
    "check_even_list(a)"
   ]
  },
  {
   "cell_type": "code",
   "execution_count": 45,
   "id": "36952c4f",
   "metadata": {},
   "outputs": [
    {
     "data": {
      "text/plain": [
       "True"
      ]
     },
     "execution_count": 45,
     "metadata": {},
     "output_type": "execute_result"
    }
   ],
   "source": [
    "check_even_list([2,4,5])"
   ]
  },
  {
   "cell_type": "code",
   "execution_count": 46,
   "id": "54c13e73",
   "metadata": {},
   "outputs": [
    {
     "data": {
      "text/plain": [
       "True"
      ]
     },
     "execution_count": 46,
     "metadata": {},
     "output_type": "execute_result"
    }
   ],
   "source": [
    "check_even_list([2,1,1])"
   ]
  },
  {
   "cell_type": "code",
   "execution_count": 47,
   "id": "4fc1b9bf",
   "metadata": {},
   "outputs": [
    {
     "data": {
      "text/plain": [
       "True"
      ]
     },
     "execution_count": 47,
     "metadata": {},
     "output_type": "execute_result"
    }
   ],
   "source": [
    "check_even_list([1,1,2])"
   ]
  },
  {
   "cell_type": "code",
   "execution_count": 48,
   "id": "6fc48d04",
   "metadata": {},
   "outputs": [
    {
     "data": {
      "text/plain": [
       "False"
      ]
     },
     "execution_count": 48,
     "metadata": {},
     "output_type": "execute_result"
    }
   ],
   "source": [
    "check_even_list([1,1,1])"
   ]
  },
  {
   "cell_type": "code",
   "execution_count": 60,
   "id": "a500a64a",
   "metadata": {},
   "outputs": [
    {
     "data": {
      "text/plain": [
       "[2, 4, 6]"
      ]
     },
     "execution_count": 60,
     "metadata": {},
     "output_type": "execute_result"
    }
   ],
   "source": [
    "def my_func(val):\n",
    "    var = []\n",
    "    for nums in val:\n",
    "        if nums%2 == 0:\n",
    "            var.append(nums)\n",
    "        else:\n",
    "            pass\n",
    "        \n",
    "    return var\n",
    "        \n",
    "val = [1,2,3,4,5,6]\n",
    "my_func(val)"
   ]
  },
  {
   "cell_type": "code",
   "execution_count": 76,
   "id": "84f583a3",
   "metadata": {},
   "outputs": [
    {
     "data": {
      "text/plain": [
       "[2, 4, 6]"
      ]
     },
     "execution_count": 76,
     "metadata": {},
     "output_type": "execute_result"
    }
   ],
   "source": [
    "def myfunc(*args):\n",
    "    lists = []\n",
    "    for nums in args:\n",
    "        if nums % 2 == 0:\n",
    "            lists.append(nums)\n",
    "            \n",
    "    return lists\n",
    "myfunc(1,2,3,4,5,6)"
   ]
  },
  {
   "cell_type": "markdown",
   "id": "17253b47",
   "metadata": {},
   "source": [
    " we have *args and **kwargs in python"
   ]
  },
  {
   "cell_type": "markdown",
   "id": "9b60c702",
   "metadata": {},
   "source": [
    "*args returns or is a tuple type **kwargs is dictionary type"
   ]
  },
  {
   "cell_type": "code",
   "execution_count": 84,
   "id": "5567bf9d",
   "metadata": {},
   "outputs": [
    {
     "name": "stdout",
     "output_type": "stream",
     "text": [
      "(1, 2, 3, 4)\n"
     ]
    }
   ],
   "source": [
    "def func(*args):\n",
    "    print(args)\n",
    "    \n",
    "func(1,2,3,4)          #tuple"
   ]
  },
  {
   "cell_type": "code",
   "execution_count": 88,
   "id": "3bd399e5",
   "metadata": {},
   "outputs": [
    {
     "data": {
      "text/plain": [
       "5.5"
      ]
     },
     "execution_count": 88,
     "metadata": {},
     "output_type": "execute_result"
    }
   ],
   "source": [
    "def func(*args):\n",
    "    return sum(args) *0.05\n",
    "\n",
    "func(50,60)"
   ]
  },
  {
   "cell_type": "code",
   "execution_count": 104,
   "id": "707f1bee",
   "metadata": {},
   "outputs": [
    {
     "name": "stdout",
     "output_type": "stream",
     "text": [
      "my num is 1\n",
      "my num is 2\n",
      "{'num1': 1, 'num2': 2}\n"
     ]
    }
   ],
   "source": [
    "def funcc(**kwargs):\n",
    "    print(\"my num is {}\".format(kwargs['num1']))\n",
    "    print(f\"my num is {kwargs['num2']}\")\n",
    "    print(kwargs) #its a dictionary type\n",
    " \n",
    "funcc(num1 =1, num2 = 2)"
   ]
  },
  {
   "cell_type": "code",
   "execution_count": 7,
   "id": "60c88313",
   "metadata": {},
   "outputs": [
    {
     "data": {
      "text/plain": [
       "25"
      ]
     },
     "execution_count": 7,
     "metadata": {},
     "output_type": "execute_result"
    }
   ],
   "source": [
    "a = lambda num : num**2\n",
    "a(5)"
   ]
  }
 ],
 "metadata": {
  "kernelspec": {
   "display_name": "Python 3 (ipykernel)",
   "language": "python",
   "name": "python3"
  },
  "language_info": {
   "codemirror_mode": {
    "name": "ipython",
    "version": 3
   },
   "file_extension": ".py",
   "mimetype": "text/x-python",
   "name": "python",
   "nbconvert_exporter": "python",
   "pygments_lexer": "ipython3",
   "version": "3.10.9"
  }
 },
 "nbformat": 4,
 "nbformat_minor": 5
}
