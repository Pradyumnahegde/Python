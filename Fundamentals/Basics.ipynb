{
 "cells": [
  {
   "cell_type": "code",
   "execution_count": 2,
   "id": "862606d5",
   "metadata": {},
   "outputs": [],
   "source": [
    "a =10"
   ]
  },
  {
   "cell_type": "code",
   "execution_count": 3,
   "id": "7bb4f9a3",
   "metadata": {},
   "outputs": [],
   "source": [
    "a = a + 5"
   ]
  },
  {
   "cell_type": "code",
   "execution_count": 4,
   "id": "77531449",
   "metadata": {},
   "outputs": [
    {
     "data": {
      "text/plain": [
       "15"
      ]
     },
     "execution_count": 4,
     "metadata": {},
     "output_type": "execute_result"
    }
   ],
   "source": [
    "a"
   ]
  },
  {
   "cell_type": "code",
   "execution_count": 5,
   "id": "6ba4184b",
   "metadata": {},
   "outputs": [],
   "source": [
    "a = a+ a"
   ]
  },
  {
   "cell_type": "code",
   "execution_count": 6,
   "id": "272ba5ab",
   "metadata": {},
   "outputs": [
    {
     "data": {
      "text/plain": [
       "30"
      ]
     },
     "execution_count": 6,
     "metadata": {},
     "output_type": "execute_result"
    }
   ],
   "source": [
    "a"
   ]
  },
  {
   "cell_type": "code",
   "execution_count": 7,
   "id": "3d6ff5cb",
   "metadata": {},
   "outputs": [
    {
     "data": {
      "text/plain": [
       "int"
      ]
     },
     "execution_count": 7,
     "metadata": {},
     "output_type": "execute_result"
    }
   ],
   "source": [
    "type(a)"
   ]
  },
  {
   "cell_type": "code",
   "execution_count": 8,
   "id": "def59a71",
   "metadata": {},
   "outputs": [],
   "source": [
    "b = 10.5"
   ]
  },
  {
   "cell_type": "code",
   "execution_count": 9,
   "id": "e4816cb0",
   "metadata": {},
   "outputs": [
    {
     "data": {
      "text/plain": [
       "float"
      ]
     },
     "execution_count": 9,
     "metadata": {},
     "output_type": "execute_result"
    }
   ],
   "source": [
    "type(b)"
   ]
  },
  {
   "cell_type": "code",
   "execution_count": 10,
   "id": "7db1ce2e",
   "metadata": {},
   "outputs": [
    {
     "data": {
      "text/plain": [
       "'Hello'"
      ]
     },
     "execution_count": 10,
     "metadata": {},
     "output_type": "execute_result"
    }
   ],
   "source": [
    "'Hello'"
   ]
  },
  {
   "cell_type": "code",
   "execution_count": 11,
   "id": "aeb822ac",
   "metadata": {},
   "outputs": [
    {
     "data": {
      "text/plain": [
       "'World'"
      ]
     },
     "execution_count": 11,
     "metadata": {},
     "output_type": "execute_result"
    }
   ],
   "source": [
    "\"World\""
   ]
  },
  {
   "cell_type": "code",
   "execution_count": 12,
   "id": "34d1ed7e",
   "metadata": {},
   "outputs": [
    {
     "data": {
      "text/plain": [
       "\"I'm hello world\""
      ]
     },
     "execution_count": 12,
     "metadata": {},
     "output_type": "execute_result"
    }
   ],
   "source": [
    "\"I'm hello world\""
   ]
  },
  {
   "cell_type": "code",
   "execution_count": 13,
   "id": "09892138",
   "metadata": {},
   "outputs": [
    {
     "name": "stdout",
     "output_type": "stream",
     "text": [
      "Hello \n",
      "World\n"
     ]
    }
   ],
   "source": [
    "print(\"Hello \\nWorld\")"
   ]
  },
  {
   "cell_type": "code",
   "execution_count": 14,
   "id": "c21d5f8d",
   "metadata": {},
   "outputs": [
    {
     "data": {
      "text/plain": [
       "5"
      ]
     },
     "execution_count": 14,
     "metadata": {},
     "output_type": "execute_result"
    }
   ],
   "source": [
    "len(\"Hello\")"
   ]
  },
  {
   "cell_type": "code",
   "execution_count": 15,
   "id": "e7733057",
   "metadata": {},
   "outputs": [],
   "source": [
    "mystring = \"abced\""
   ]
  },
  {
   "cell_type": "code",
   "execution_count": 16,
   "id": "e89dc76a",
   "metadata": {},
   "outputs": [
    {
     "data": {
      "text/plain": [
       "'abced'"
      ]
     },
     "execution_count": 16,
     "metadata": {},
     "output_type": "execute_result"
    }
   ],
   "source": [
    "mystring"
   ]
  },
  {
   "cell_type": "code",
   "execution_count": 17,
   "id": "12c669aa",
   "metadata": {},
   "outputs": [
    {
     "data": {
      "text/plain": [
       "'a'"
      ]
     },
     "execution_count": 17,
     "metadata": {},
     "output_type": "execute_result"
    }
   ],
   "source": [
    "mystring[0]"
   ]
  },
  {
   "cell_type": "code",
   "execution_count": 18,
   "id": "71380e4c",
   "metadata": {},
   "outputs": [
    {
     "data": {
      "text/plain": [
       "'c'"
      ]
     },
     "execution_count": 18,
     "metadata": {},
     "output_type": "execute_result"
    }
   ],
   "source": [
    "mystring[2]"
   ]
  },
  {
   "cell_type": "code",
   "execution_count": 19,
   "id": "6450c6b5",
   "metadata": {},
   "outputs": [
    {
     "data": {
      "text/plain": [
       "'e'"
      ]
     },
     "execution_count": 19,
     "metadata": {},
     "output_type": "execute_result"
    }
   ],
   "source": [
    "mystring[-2]"
   ]
  },
  {
   "cell_type": "code",
   "execution_count": 20,
   "id": "17e69c61",
   "metadata": {},
   "outputs": [
    {
     "data": {
      "text/plain": [
       "'c'"
      ]
     },
     "execution_count": 20,
     "metadata": {},
     "output_type": "execute_result"
    }
   ],
   "source": [
    "mystring[-3\n",
    "    ]"
   ]
  },
  {
   "cell_type": "code",
   "execution_count": 21,
   "id": "2b03f2aa",
   "metadata": {},
   "outputs": [
    {
     "name": "stdout",
     "output_type": "stream",
     "text": [
      "abced\n"
     ]
    }
   ],
   "source": [
    "print(mystring)"
   ]
  },
  {
   "cell_type": "code",
   "execution_count": 22,
   "id": "cb5e6e00",
   "metadata": {},
   "outputs": [
    {
     "data": {
      "text/plain": [
       "'ced'"
      ]
     },
     "execution_count": 22,
     "metadata": {},
     "output_type": "execute_result"
    }
   ],
   "source": [
    "mystring[2:]"
   ]
  },
  {
   "cell_type": "code",
   "execution_count": 23,
   "id": "9bf8a0f3",
   "metadata": {},
   "outputs": [
    {
     "data": {
      "text/plain": [
       "'ab'"
      ]
     },
     "execution_count": 23,
     "metadata": {},
     "output_type": "execute_result"
    }
   ],
   "source": [
    "mystring[:2]"
   ]
  },
  {
   "cell_type": "code",
   "execution_count": 24,
   "id": "46846dea",
   "metadata": {},
   "outputs": [
    {
     "data": {
      "text/plain": [
       "'acd'"
      ]
     },
     "execution_count": 24,
     "metadata": {},
     "output_type": "execute_result"
    }
   ],
   "source": [
    "mystring[::2]"
   ]
  },
  {
   "cell_type": "code",
   "execution_count": 25,
   "id": "66b520a5",
   "metadata": {},
   "outputs": [
    {
     "data": {
      "text/plain": [
       "'ced'"
      ]
     },
     "execution_count": 25,
     "metadata": {},
     "output_type": "execute_result"
    }
   ],
   "source": [
    "mystring[2::]"
   ]
  },
  {
   "cell_type": "code",
   "execution_count": 2,
   "id": "9b5dc0db",
   "metadata": {},
   "outputs": [],
   "source": [
    "name = \"Prad\""
   ]
  },
  {
   "cell_type": "code",
   "execution_count": 3,
   "id": "96dae4d2",
   "metadata": {},
   "outputs": [
    {
     "name": "stdout",
     "output_type": "stream",
     "text": [
      "Pradgg\n"
     ]
    }
   ],
   "source": [
    "print(name+\"gg\")"
   ]
  },
  {
   "cell_type": "code",
   "execution_count": 4,
   "id": "27c6031b",
   "metadata": {},
   "outputs": [
    {
     "data": {
      "text/plain": [
       "5"
      ]
     },
     "execution_count": 4,
     "metadata": {},
     "output_type": "execute_result"
    }
   ],
   "source": [
    "2+3"
   ]
  },
  {
   "cell_type": "code",
   "execution_count": 5,
   "id": "9075a821",
   "metadata": {},
   "outputs": [
    {
     "data": {
      "text/plain": [
       "'23'"
      ]
     },
     "execution_count": 5,
     "metadata": {},
     "output_type": "execute_result"
    }
   ],
   "source": [
    "'2'+'3'"
   ]
  },
  {
   "cell_type": "code",
   "execution_count": 6,
   "id": "c06b7d7e",
   "metadata": {},
   "outputs": [],
   "source": [
    "x = \"prad\""
   ]
  },
  {
   "cell_type": "code",
   "execution_count": 8,
   "id": "7998dcf9",
   "metadata": {},
   "outputs": [
    {
     "data": {
      "text/plain": [
       "'PRAD'"
      ]
     },
     "execution_count": 8,
     "metadata": {},
     "output_type": "execute_result"
    }
   ],
   "source": [
    "x.upper()"
   ]
  },
  {
   "cell_type": "code",
   "execution_count": 10,
   "id": "79af0c00",
   "metadata": {},
   "outputs": [
    {
     "data": {
      "text/plain": [
       "'Prad'"
      ]
     },
     "execution_count": 10,
     "metadata": {},
     "output_type": "execute_result"
    }
   ],
   "source": [
    "x.capitalize()"
   ]
  },
  {
   "cell_type": "code",
   "execution_count": 11,
   "id": "41c0d3b5",
   "metadata": {},
   "outputs": [
    {
     "data": {
      "text/plain": [
       "['prad']"
      ]
     },
     "execution_count": 11,
     "metadata": {},
     "output_type": "execute_result"
    }
   ],
   "source": [
    "x.split()"
   ]
  },
  {
   "cell_type": "code",
   "execution_count": 12,
   "id": "dbe07507",
   "metadata": {},
   "outputs": [],
   "source": [
    "y = \"abcd efg\""
   ]
  },
  {
   "cell_type": "code",
   "execution_count": 13,
   "id": "7e10a591",
   "metadata": {},
   "outputs": [
    {
     "data": {
      "text/plain": [
       "['abcd', 'efg']"
      ]
     },
     "execution_count": 13,
     "metadata": {},
     "output_type": "execute_result"
    }
   ],
   "source": [
    "y.split()"
   ]
  },
  {
   "cell_type": "code",
   "execution_count": 14,
   "id": "1cffed18",
   "metadata": {},
   "outputs": [],
   "source": [
    "ab = \"abcd\""
   ]
  },
  {
   "cell_type": "code",
   "execution_count": 15,
   "id": "ccda30a3",
   "metadata": {},
   "outputs": [
    {
     "data": {
      "text/plain": [
       "'cd'"
      ]
     },
     "execution_count": 15,
     "metadata": {},
     "output_type": "execute_result"
    }
   ],
   "source": [
    "ab[2:]"
   ]
  },
  {
   "cell_type": "code",
   "execution_count": 16,
   "id": "4d679dfc",
   "metadata": {},
   "outputs": [
    {
     "data": {
      "text/plain": [
       "'ab'"
      ]
     },
     "execution_count": 16,
     "metadata": {},
     "output_type": "execute_result"
    }
   ],
   "source": [
    "ab[:2]"
   ]
  },
  {
   "cell_type": "code",
   "execution_count": 17,
   "id": "5f70d120",
   "metadata": {},
   "outputs": [
    {
     "name": "stdout",
     "output_type": "stream",
     "text": [
      "Hello World\n"
     ]
    }
   ],
   "source": [
    "print(\"Hello {}\".format('World'))"
   ]
  },
  {
   "cell_type": "code",
   "execution_count": 19,
   "id": "6bf737d2",
   "metadata": {},
   "outputs": [],
   "source": [
    "w = \"World\""
   ]
  },
  {
   "cell_type": "code",
   "execution_count": 23,
   "id": "09822d37",
   "metadata": {},
   "outputs": [
    {
     "name": "stdout",
     "output_type": "stream",
     "text": [
      "Hello World\n"
     ]
    }
   ],
   "source": [
    "print(f'Hello {w}')"
   ]
  },
  {
   "cell_type": "code",
   "execution_count": 24,
   "id": "d76d986f",
   "metadata": {},
   "outputs": [
    {
     "name": "stdout",
     "output_type": "stream",
     "text": [
      "The world is crazy\n"
     ]
    }
   ],
   "source": [
    "print(\"The {} {} {}\".format('world', 'is', 'crazy'))"
   ]
  },
  {
   "cell_type": "code",
   "execution_count": 25,
   "id": "ef4a9004",
   "metadata": {},
   "outputs": [],
   "source": [
    "res = 10.5432"
   ]
  },
  {
   "cell_type": "code",
   "execution_count": 29,
   "id": "3f29b560",
   "metadata": {},
   "outputs": [
    {
     "name": "stdout",
     "output_type": "stream",
     "text": [
      "The result is 10.54\n"
     ]
    }
   ],
   "source": [
    "print(\"The result is {r:1.2f}\".format(r = res))"
   ]
  },
  {
   "cell_type": "code",
   "execution_count": 32,
   "id": "67a342fa",
   "metadata": {},
   "outputs": [
    {
     "name": "stdout",
     "output_type": "stream",
     "text": [
      "Well Hey hi\n"
     ]
    }
   ],
   "source": [
    "n = \"Hey\"\n",
    "k = \"hi\"\n",
    "print(f\"Well {n} {k}\")"
   ]
  },
  {
   "cell_type": "code",
   "execution_count": null,
   "id": "fbb0a66d",
   "metadata": {},
   "outputs": [],
   "source": []
  }
 ],
 "metadata": {
  "kernelspec": {
   "display_name": "Python 3 (ipykernel)",
   "language": "python",
   "name": "python3"
  },
  "language_info": {
   "codemirror_mode": {
    "name": "ipython",
    "version": 3
   },
   "file_extension": ".py",
   "mimetype": "text/x-python",
   "name": "python",
   "nbconvert_exporter": "python",
   "pygments_lexer": "ipython3",
   "version": "3.10.9"
  }
 },
 "nbformat": 4,
 "nbformat_minor": 5
}
