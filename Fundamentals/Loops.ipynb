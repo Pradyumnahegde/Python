{
 "cells": [
  {
   "cell_type": "code",
   "execution_count": 1,
   "id": "49b9e363",
   "metadata": {},
   "outputs": [
    {
     "name": "stdout",
     "output_type": "stream",
     "text": [
      "1\n",
      "2\n",
      "3\n",
      "4\n"
     ]
    }
   ],
   "source": [
    "item = [1,2,3,4]\n",
    "for items in item:\n",
    "    print(items)"
   ]
  },
  {
   "cell_type": "code",
   "execution_count": 2,
   "id": "e285c8cc",
   "metadata": {},
   "outputs": [
    {
     "name": "stdout",
     "output_type": "stream",
     "text": [
      "Its a number\n",
      "Its a number\n",
      "Its a number\n",
      "Its a number\n"
     ]
    }
   ],
   "source": [
    "for naming in item:\n",
    "    print('Its a number')"
   ]
  },
  {
   "cell_type": "code",
   "execution_count": 13,
   "id": "ec815e68",
   "metadata": {},
   "outputs": [],
   "source": [
    "item = [1,2,3,4,5,6,7,8,9,10]"
   ]
  },
  {
   "cell_type": "code",
   "execution_count": 21,
   "id": "2df29e11",
   "metadata": {},
   "outputs": [
    {
     "name": "stdout",
     "output_type": "stream",
     "text": [
      "odd num =  1\n",
      "2\n",
      "odd num =  3\n",
      "4\n",
      "odd num =  5\n",
      "6\n",
      "odd num =  7\n",
      "8\n",
      "odd num =  9\n",
      "10\n"
     ]
    }
   ],
   "source": [
    "for num in item:\n",
    "    if num%2 == 0:\n",
    "        print(num)\n",
    "    else:\n",
    "        print('odd num = ',num)\n",
    "        # or print(f'odd num : {num}')\n",
    "   "
   ]
  },
  {
   "cell_type": "code",
   "execution_count": 23,
   "id": "4b641454",
   "metadata": {},
   "outputs": [
    {
     "name": "stdout",
     "output_type": "stream",
     "text": [
      "55\n"
     ]
    }
   ],
   "source": [
    "listnum = 0\n",
    "for nums in item:\n",
    "    listnum += nums\n",
    "print(listnum)"
   ]
  },
  {
   "cell_type": "code",
   "execution_count": 26,
   "id": "67dccaf7",
   "metadata": {},
   "outputs": [
    {
     "name": "stdout",
     "output_type": "stream",
     "text": [
      "P\n",
      "r\n",
      "a\n",
      "d\n",
      "g\n",
      "g\n"
     ]
    }
   ],
   "source": [
    "my_string = \"Pradgg\"\n",
    "for letter in my_string:\n",
    "    print(letter)"
   ]
  },
  {
   "cell_type": "code",
   "execution_count": 27,
   "id": "545376eb",
   "metadata": {},
   "outputs": [
    {
     "name": "stdout",
     "output_type": "stream",
     "text": [
      "H\n",
      "e\n",
      "l\n",
      "l\n",
      "o\n",
      " \n",
      "W\n",
      "o\n",
      "r\n",
      "l\n",
      "d\n"
     ]
    }
   ],
   "source": [
    "for letter in 'Hello World':\n",
    "    print(letter)"
   ]
  },
  {
   "cell_type": "code",
   "execution_count": 30,
   "id": "a61b6dbf",
   "metadata": {},
   "outputs": [
    {
     "name": "stdout",
     "output_type": "stream",
     "text": [
      "lmaoo\n",
      "lmaoo\n"
     ]
    }
   ],
   "source": [
    "for _ in 'lm':\n",
    "    print('lmaoo')"
   ]
  },
  {
   "cell_type": "code",
   "execution_count": 31,
   "id": "76caa281",
   "metadata": {},
   "outputs": [
    {
     "name": "stdout",
     "output_type": "stream",
     "text": [
      "1\n",
      "2\n",
      "3\n"
     ]
    }
   ],
   "source": [
    "tup = (1,2,3)\n",
    "for item in tup:\n",
    "    print(item)"
   ]
  },
  {
   "cell_type": "markdown",
   "id": "7c8d698f",
   "metadata": {},
   "source": [
    "Tuple unpacking"
   ]
  },
  {
   "cell_type": "code",
   "execution_count": 32,
   "id": "9aee5cd0",
   "metadata": {},
   "outputs": [
    {
     "name": "stdout",
     "output_type": "stream",
     "text": [
      "1\n",
      "2\n",
      "(1, 2, 3)\n",
      "(4, 5)\n"
     ]
    }
   ],
   "source": [
    "lists = [1,2,(1,2,3),(4,5)]\n",
    "for into in lists:\n",
    "    print(into)"
   ]
  },
  {
   "cell_type": "code",
   "execution_count": 37,
   "id": "bff3bb3a",
   "metadata": {},
   "outputs": [
    {
     "name": "stdout",
     "output_type": "stream",
     "text": [
      "1\n",
      "2\n",
      "4\n"
     ]
    }
   ],
   "source": [
    "y = [(1,2),(2,3),(4,5)]\n",
    "for (x,y) in y:\n",
    "    print(x)\n",
    "   "
   ]
  },
  {
   "cell_type": "code",
   "execution_count": 1,
   "id": "e1076ab1",
   "metadata": {},
   "outputs": [
    {
     "name": "stdout",
     "output_type": "stream",
     "text": [
      "('a', 1)\n",
      "('b', 2)\n",
      "('c', 5)\n"
     ]
    }
   ],
   "source": [
    "dicts = {'a':1,'b':2,'c':5}\n",
    "for x in dicts.items():  # d.values() , d.keys()\n",
    "    print(x)"
   ]
  },
  {
   "cell_type": "markdown",
   "id": "201c4fb7",
   "metadata": {},
   "source": [
    "=> While loop"
   ]
  },
  {
   "cell_type": "code",
   "execution_count": 3,
   "id": "c8569399",
   "metadata": {},
   "outputs": [
    {
     "name": "stdout",
     "output_type": "stream",
     "text": [
      "value of x : 1\n",
      "value of x : 2\n",
      "value of x : 3\n",
      "value of x : 4\n",
      "value of x : 5\n",
      "value of x : 6\n",
      "value of x : 7\n",
      "value of x : 8\n",
      "value of x : 9\n",
      "value of x : 10\n"
     ]
    }
   ],
   "source": [
    "x = 1\n",
    "while x<=10:\n",
    "    print('value of x :',x)\n",
    "    x +=1"
   ]
  },
  {
   "cell_type": "code",
   "execution_count": 10,
   "id": "0f6b1d72",
   "metadata": {},
   "outputs": [
    {
     "name": "stdout",
     "output_type": "stream",
     "text": [
      "a\n",
      "a\n",
      "a\n",
      "a\n",
      "a\n",
      "a\n",
      "a\n",
      "a\n",
      "a\n",
      "no more\n"
     ]
    }
   ],
   "source": [
    " y  = 10\n",
    "while y>1:\n",
    "    print('a')\n",
    "    y-=1\n",
    "else:\n",
    "    print('no more')"
   ]
  },
  {
   "cell_type": "markdown",
   "id": "d38a1c8e",
   "metadata": {},
   "source": [
    "we also use break, continue , pass(does nothing)"
   ]
  },
  {
   "cell_type": "code",
   "execution_count": 12,
   "id": "ba7a075a",
   "metadata": {},
   "outputs": [
    {
     "name": "stdout",
     "output_type": "stream",
     "text": [
      "0\n",
      "1\n",
      "2\n",
      "3\n",
      "4\n",
      "5\n",
      "6\n",
      "7\n",
      "8\n",
      "9\n"
     ]
    }
   ],
   "source": [
    "for num in range(10):     # range() operator\n",
    "    print(num)"
   ]
  },
  {
   "cell_type": "code",
   "execution_count": 14,
   "id": "04f964f7",
   "metadata": {},
   "outputs": [
    {
     "name": "stdout",
     "output_type": "stream",
     "text": [
      "2\n",
      "3\n",
      "4\n",
      "5\n",
      "6\n",
      "7\n",
      "8\n",
      "9\n"
     ]
    }
   ],
   "source": [
    "for num in range(2,10):\n",
    "    print(num)"
   ]
  },
  {
   "cell_type": "code",
   "execution_count": 15,
   "id": "aca35d69",
   "metadata": {},
   "outputs": [
    {
     "name": "stdout",
     "output_type": "stream",
     "text": [
      "2\n",
      "4\n",
      "6\n",
      "8\n"
     ]
    }
   ],
   "source": [
    "for num in range(2,10,2):\n",
    "    print(num)"
   ]
  },
  {
   "cell_type": "code",
   "execution_count": 16,
   "id": "72d557ce",
   "metadata": {},
   "outputs": [
    {
     "name": "stdout",
     "output_type": "stream",
     "text": [
      "(1, 'a')\n",
      "(2, 'b')\n",
      "(3, 'c')\n"
     ]
    }
   ],
   "source": [
    "lista = [1,2,3]\n",
    "listb = ['a','b','c']\n",
    "for items in zip(lista,listb):\n",
    "    print(items)"
   ]
  },
  {
   "cell_type": "code",
   "execution_count": 24,
   "id": "5ea23f0b",
   "metadata": {},
   "outputs": [
    {
     "name": "stdout",
     "output_type": "stream",
     "text": [
      "1\n"
     ]
    },
    {
     "data": {
      "text/plain": [
       "6"
      ]
     },
     "execution_count": 24,
     "metadata": {},
     "output_type": "execute_result"
    }
   ],
   "source": [
    "lists = [1,2,3,4,5,6]\n",
    "print(min(lists))\n",
    "max(lists)"
   ]
  },
  {
   "cell_type": "code",
   "execution_count": 25,
   "id": "b614c891",
   "metadata": {},
   "outputs": [],
   "source": [
    "from random import shuffle"
   ]
  },
  {
   "cell_type": "code",
   "execution_count": 26,
   "id": "2b23a81d",
   "metadata": {},
   "outputs": [
    {
     "data": {
      "text/plain": [
       "[1, 2, 3, 4, 5, 6]"
      ]
     },
     "execution_count": 26,
     "metadata": {},
     "output_type": "execute_result"
    }
   ],
   "source": [
    "mylist = [1,2,3,4,5,6]\n",
    "mylist"
   ]
  },
  {
   "cell_type": "code",
   "execution_count": 27,
   "id": "375a33a3",
   "metadata": {},
   "outputs": [],
   "source": [
    "shuffle(mylist)"
   ]
  },
  {
   "cell_type": "code",
   "execution_count": 28,
   "id": "bd59f4f0",
   "metadata": {},
   "outputs": [
    {
     "data": {
      "text/plain": [
       "[4, 6, 5, 2, 3, 1]"
      ]
     },
     "execution_count": 28,
     "metadata": {},
     "output_type": "execute_result"
    }
   ],
   "source": [
    "mylist"
   ]
  },
  {
   "cell_type": "code",
   "execution_count": 29,
   "id": "6d60c25a",
   "metadata": {},
   "outputs": [],
   "source": [
    "from random import randint"
   ]
  },
  {
   "cell_type": "code",
   "execution_count": 31,
   "id": "c2a7d65f",
   "metadata": {},
   "outputs": [
    {
     "data": {
      "text/plain": [
       "739"
      ]
     },
     "execution_count": 31,
     "metadata": {},
     "output_type": "execute_result"
    }
   ],
   "source": [
    "randint(0,1000)"
   ]
  },
  {
   "cell_type": "code",
   "execution_count": 33,
   "id": "fb75604b",
   "metadata": {},
   "outputs": [
    {
     "name": "stdout",
     "output_type": "stream",
     "text": [
      "enter number : 10\n"
     ]
    }
   ],
   "source": [
    "x = input(\"enter number : \")"
   ]
  },
  {
   "cell_type": "code",
   "execution_count": 34,
   "id": "c46201d1",
   "metadata": {},
   "outputs": [
    {
     "name": "stdout",
     "output_type": "stream",
     "text": [
      "10\n"
     ]
    }
   ],
   "source": [
    "print(x)"
   ]
  },
  {
   "cell_type": "code",
   "execution_count": 35,
   "id": "92889749",
   "metadata": {},
   "outputs": [
    {
     "data": {
      "text/plain": [
       "str"
      ]
     },
     "execution_count": 35,
     "metadata": {},
     "output_type": "execute_result"
    }
   ],
   "source": [
    "type(x)"
   ]
  },
  {
   "cell_type": "code",
   "execution_count": 36,
   "id": "3d592bc1",
   "metadata": {},
   "outputs": [
    {
     "data": {
      "text/plain": [
       "10"
      ]
     },
     "execution_count": 36,
     "metadata": {},
     "output_type": "execute_result"
    }
   ],
   "source": [
    "int(x)"
   ]
  },
  {
   "cell_type": "code",
   "execution_count": 37,
   "id": "af89ba8b",
   "metadata": {},
   "outputs": [
    {
     "data": {
      "text/plain": [
       "str"
      ]
     },
     "execution_count": 37,
     "metadata": {},
     "output_type": "execute_result"
    }
   ],
   "source": [
    "type(x)"
   ]
  },
  {
   "cell_type": "code",
   "execution_count": 38,
   "id": "fa43a4a3",
   "metadata": {},
   "outputs": [
    {
     "data": {
      "text/plain": [
       "'10'"
      ]
     },
     "execution_count": 38,
     "metadata": {},
     "output_type": "execute_result"
    }
   ],
   "source": [
    "x"
   ]
  },
  {
   "cell_type": "code",
   "execution_count": 42,
   "id": "20f624d5",
   "metadata": {},
   "outputs": [
    {
     "name": "stdout",
     "output_type": "stream",
     "text": [
      "Enter num = 10\n"
     ]
    }
   ],
   "source": [
    "y = int(input(\"Enter num = \" ))"
   ]
  },
  {
   "cell_type": "code",
   "execution_count": 43,
   "id": "91e32082",
   "metadata": {},
   "outputs": [
    {
     "data": {
      "text/plain": [
       "10"
      ]
     },
     "execution_count": 43,
     "metadata": {},
     "output_type": "execute_result"
    }
   ],
   "source": [
    "y"
   ]
  },
  {
   "cell_type": "code",
   "execution_count": 44,
   "id": "21f1b8ad",
   "metadata": {},
   "outputs": [
    {
     "data": {
      "text/plain": [
       "int"
      ]
     },
     "execution_count": 44,
     "metadata": {},
     "output_type": "execute_result"
    }
   ],
   "source": [
    "type(y)"
   ]
  },
  {
   "cell_type": "code",
   "execution_count": 49,
   "id": "eeb67beb",
   "metadata": {},
   "outputs": [],
   "source": [
    "tell = \"Hello\"\n",
    "say = []\n",
    "for talk in tell:\n",
    "    say.append(talk)"
   ]
  },
  {
   "cell_type": "code",
   "execution_count": 50,
   "id": "7eb8e404",
   "metadata": {},
   "outputs": [
    {
     "data": {
      "text/plain": [
       "['H', 'e', 'l', 'l', 'o']"
      ]
     },
     "execution_count": 50,
     "metadata": {},
     "output_type": "execute_result"
    }
   ],
   "source": [
    "say"
   ]
  },
  {
   "cell_type": "code",
   "execution_count": 53,
   "id": "cb099c0e",
   "metadata": {},
   "outputs": [],
   "source": [
    "say = [tell for tell in tell]"
   ]
  },
  {
   "cell_type": "code",
   "execution_count": 54,
   "id": "1c4f6b36",
   "metadata": {},
   "outputs": [
    {
     "data": {
      "text/plain": [
       "['H', 'e', 'l', 'l', 'o']"
      ]
     },
     "execution_count": 54,
     "metadata": {},
     "output_type": "execute_result"
    }
   ],
   "source": [
    "say"
   ]
  },
  {
   "cell_type": "code",
   "execution_count": null,
   "id": "b8defe97",
   "metadata": {},
   "outputs": [],
   "source": []
  }
 ],
 "metadata": {
  "kernelspec": {
   "display_name": "Python 3 (ipykernel)",
   "language": "python",
   "name": "python3"
  },
  "language_info": {
   "codemirror_mode": {
    "name": "ipython",
    "version": 3
   },
   "file_extension": ".py",
   "mimetype": "text/x-python",
   "name": "python",
   "nbconvert_exporter": "python",
   "pygments_lexer": "ipython3",
   "version": "3.10.9"
  }
 },
 "nbformat": 4,
 "nbformat_minor": 5
}
