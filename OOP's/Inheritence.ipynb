{
 "cells": [
  {
   "cell_type": "code",
   "execution_count": 2,
   "id": "706ece95",
   "metadata": {},
   "outputs": [],
   "source": [
    "class Animal():\n",
    "    def __init__(self):\n",
    "        print(\"Animal\")\n",
    "        \n",
    "    def animal_name(self):\n",
    "        print(\"carnivorous\")"
   ]
  },
  {
   "cell_type": "code",
   "execution_count": 7,
   "id": "80556ab1",
   "metadata": {},
   "outputs": [],
   "source": [
    "class Lion(Animal):\n",
    "    def __init__(self):\n",
    "        Animal.__init__(self)\n",
    "        print(\"Lion\")\n",
    "        \n",
    "    def animal_name(self):\n",
    "        print(\"Lion\")"
   ]
  },
  {
   "cell_type": "code",
   "execution_count": 8,
   "id": "5aabf21c",
   "metadata": {},
   "outputs": [
    {
     "name": "stdout",
     "output_type": "stream",
     "text": [
      "Animal\n",
      "Lion\n"
     ]
    }
   ],
   "source": [
    "myLion = Lion()"
   ]
  },
  {
   "cell_type": "code",
   "execution_count": 9,
   "id": "dbf673ef",
   "metadata": {},
   "outputs": [
    {
     "name": "stdout",
     "output_type": "stream",
     "text": [
      "Lion\n"
     ]
    }
   ],
   "source": [
    "myLion.animal_name()"
   ]
  },
  {
   "cell_type": "code",
   "execution_count": null,
   "id": "b05fceb7",
   "metadata": {},
   "outputs": [],
   "source": []
  }
 ],
 "metadata": {
  "kernelspec": {
   "display_name": "Python 3 (ipykernel)",
   "language": "python",
   "name": "python3"
  },
  "language_info": {
   "codemirror_mode": {
    "name": "ipython",
    "version": 3
   },
   "file_extension": ".py",
   "mimetype": "text/x-python",
   "name": "python",
   "nbconvert_exporter": "python",
   "pygments_lexer": "ipython3",
   "version": "3.10.9"
  }
 },
 "nbformat": 4,
 "nbformat_minor": 5
}
